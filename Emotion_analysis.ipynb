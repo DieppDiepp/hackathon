{
  "metadata": {
    "kernelspec": {
      "language": "python",
      "display_name": "Python 3",
      "name": "python3"
    },
    "language_info": {
      "name": "python",
      "version": "3.7.12",
      "mimetype": "text/x-python",
      "codemirror_mode": {
        "name": "ipython",
        "version": 3
      },
      "pygments_lexer": "ipython3",
      "nbconvert_exporter": "python",
      "file_extension": ".py"
    },
    "kaggle": {
      "accelerator": "gpu",
      "dataSources": [
        {
          "sourceId": 3411685,
          "sourceType": "datasetVersion",
          "datasetId": 2056465
        }
      ],
      "dockerImageVersionId": 30178,
      "isInternetEnabled": false,
      "language": "python",
      "sourceType": "notebook",
      "isGpuEnabled": true
    },
    "colab": {
      "provenance": [],
      "include_colab_link": true
    }
  },
  "nbformat_minor": 0,
  "nbformat": 4,
  "cells": [
    {
      "cell_type": "markdown",
      "metadata": {
        "id": "view-in-github",
        "colab_type": "text"
      },
      "source": [
        "<a href=\"https://colab.research.google.com/github/DieppDiepp/hackathon/blob/main/Emotion_analysis.ipynb\" target=\"_parent\"><img src=\"https://colab.research.google.com/assets/colab-badge.svg\" alt=\"Open In Colab\"/></a>"
      ]
    },
    {
      "cell_type": "markdown",
      "source": [
        "Dataset: http://nlp.uit.edu.vn/datasets/\n",
        "\n",
        "Classify 7 states of emotions in terms of enjoyment, disgust, sadness, anger, surprise, fear and others from text using PhoBert, a state of the art pre-trained BERT for the Vietnamese language\n",
        "\n",
        "From UIT with ♥\n",
        "\n",
        "### About data:\n",
        "\n",
        "Emotion recognition is a higher approach or special case of sentiment analysis. In this task, the result is not produced in terms of either polarity: positive or negative or in the form of rating (from 1 to 5) but of a more detailed level of sentiment analysis in which the result are depicted in more expressions like sadness, enjoyment, anger, disgust, fear and surprise. Emotion recognition plays a critical role in measuring brand value of a product by recognizing specific emotions of customers’ comments. In this study, we have achieved two targets. First and foremost, we built a standard Vietnamese Social Media Emotion Corpus (UIT-VSMEC) with about 6,927 human-annotated sentences with six emotion labels, contributing to emotion recognition research in Vietnamese which is a low-resource language in Natural Language Processing (NLP). Secondly, we assessed and measured machine learning and deep neural network models on our UIT-VSMEC. As a result, Convolutional Neural Network (CNN) model achieved the highest performance with 57.61% of F1-score."
      ],
      "metadata": {
        "id": "tKKZjRPUEdcQ"
      }
    },
    {
      "cell_type": "markdown",
      "source": [
        "### Set Up"
      ],
      "metadata": {
        "id": "KWjkiTCGEdcT"
      }
    },
    {
      "cell_type": "code",
      "source": [
        "# For read excel format form pandas\n",
        "!pip install openpyxl\n",
        "# For Vietnamese word_segment\n",
        "!pip install pyvi"
      ],
      "metadata": {
        "_kg_hide-output": true,
        "execution": {
          "iopub.status.busy": "2025-03-02T03:44:44.498587Z",
          "iopub.status.idle": "2025-03-02T03:44:44.498917Z",
          "shell.execute_reply.started": "2025-03-02T03:44:44.498754Z",
          "shell.execute_reply": "2025-03-02T03:44:44.498774Z"
        },
        "trusted": true,
        "id": "WWExy-X6EdcU"
      },
      "outputs": [],
      "execution_count": null
    },
    {
      "cell_type": "code",
      "source": [
        "import os\n",
        "import torch\n",
        "import numpy as np\n",
        "import pandas as pd\n",
        "import seaborn as sns\n",
        "import matplotlib.pyplot as plt\n",
        "\n",
        "from pyvi import ViTokenizer\n",
        "from gensim.utils import simple_preprocess\n",
        "from sklearn.model_selection import StratifiedKFold\n",
        "from sklearn.metrics import classification_report, confusion_matrix\n",
        "\n",
        "import torch.nn as nn\n",
        "from torch.optim import AdamW\n",
        "from torch.utils.data import Dataset, DataLoader\n",
        "\n",
        "from transformers import get_linear_schedule_with_warmup, AutoTokenizer, AutoModel, logging\n",
        "\n",
        "import warnings\n",
        "warnings.filterwarnings(\"ignore\")\n",
        "\n",
        "logging.set_verbosity_error()"
      ],
      "metadata": {
        "execution": {
          "iopub.status.busy": "2025-03-02T03:44:44.500407Z",
          "iopub.status.idle": "2025-03-02T03:44:44.500691Z",
          "shell.execute_reply.started": "2025-03-02T03:44:44.500546Z",
          "shell.execute_reply": "2025-03-02T03:44:44.500561Z"
        },
        "trusted": true,
        "id": "2vMJcaU-EdcV"
      },
      "outputs": [],
      "execution_count": null
    },
    {
      "cell_type": "code",
      "source": [
        "def seed_everything(seed_value):\n",
        "    np.random.seed(seed_value)\n",
        "    torch.manual_seed(seed_value)\n",
        "\n",
        "    if torch.cuda.is_available():\n",
        "        torch.cuda.manual_seed(seed_value)\n",
        "        torch.cuda.manual_seed_all(seed_value)\n",
        "        torch.backends.cudnn.deterministic = True\n",
        "        torch.backends.cudnn.benchmark = True\n",
        "\n",
        "seed_everything(86)"
      ],
      "metadata": {
        "execution": {
          "iopub.status.busy": "2025-03-02T03:44:44.501729Z",
          "iopub.status.idle": "2025-03-02T03:44:44.502015Z",
          "shell.execute_reply.started": "2025-03-02T03:44:44.501858Z",
          "shell.execute_reply": "2025-03-02T03:44:44.501873Z"
        },
        "trusted": true,
        "id": "uLF6o0-HEdcV"
      },
      "outputs": [],
      "execution_count": null
    },
    {
      "cell_type": "code",
      "source": [
        "device = torch.device('cuda:0' if torch.cuda.is_available() else 'cpu')\n",
        "EPOCHS = 6\n",
        "N_SPLITS = 10"
      ],
      "metadata": {
        "execution": {
          "iopub.status.busy": "2025-03-02T03:44:44.50305Z",
          "iopub.status.idle": "2025-03-02T03:44:44.503392Z",
          "shell.execute_reply.started": "2025-03-02T03:44:44.503226Z",
          "shell.execute_reply": "2025-03-02T03:44:44.50325Z"
        },
        "trusted": true,
        "id": "0HCcgJ7IEdcW"
      },
      "outputs": [],
      "execution_count": null
    },
    {
      "cell_type": "markdown",
      "source": [
        "### Load Data"
      ],
      "metadata": {
        "id": "HecytRL-EdcW"
      }
    },
    {
      "cell_type": "code",
      "source": [
        "def get_data(path):\n",
        "    df = pd.read_excel(path, sheet_name=None)['Sheet1']\n",
        "    df.columns = ['index', 'Emotion', 'Sentence']\n",
        "    # unused column\n",
        "    df.drop(columns=['index'], inplace=True)\n",
        "    return df\n",
        "\n",
        "train_df = get_data('../input/UIT-VSMEC/train_nor_811.xlsx')\n",
        "valid_df = get_data('../input/UIT-VSMEC/valid_nor_811.xlsx')\n",
        "test_df = get_data('../input/UIT-VSMEC/test_nor_811.xlsx')\n",
        "\n",
        "# We will use Kfold later\n",
        "train_df = pd.concat([train_df, valid_df], ignore_index=True)\n",
        "skf = StratifiedKFold(n_splits=N_SPLITS)\n",
        "for fold, (_, val_) in enumerate(skf.split(X=train_df, y=train_df.Emotion)):\n",
        "    train_df.loc[val_, \"kfold\"] = fold"
      ],
      "metadata": {
        "execution": {
          "iopub.status.busy": "2025-03-02T03:44:44.504154Z",
          "iopub.status.idle": "2025-03-02T03:44:44.504425Z",
          "shell.execute_reply.started": "2025-03-02T03:44:44.504283Z",
          "shell.execute_reply": "2025-03-02T03:44:44.504298Z"
        },
        "trusted": true,
        "id": "3_Wl0zB3EdcW"
      },
      "outputs": [],
      "execution_count": null
    },
    {
      "cell_type": "code",
      "source": [
        "train_df.sample(5)"
      ],
      "metadata": {
        "execution": {
          "iopub.status.busy": "2025-03-02T03:44:44.505322Z",
          "iopub.status.idle": "2025-03-02T03:44:44.505596Z",
          "shell.execute_reply.started": "2025-03-02T03:44:44.505457Z",
          "shell.execute_reply": "2025-03-02T03:44:44.505471Z"
        },
        "trusted": true,
        "id": "QSosSsx3EdcX"
      },
      "outputs": [],
      "execution_count": null
    },
    {
      "cell_type": "code",
      "source": [
        "train_df.info(), test_df.info()"
      ],
      "metadata": {
        "execution": {
          "iopub.status.busy": "2025-03-02T03:44:44.50727Z",
          "iopub.status.idle": "2025-03-02T03:44:44.507553Z",
          "shell.execute_reply.started": "2025-03-02T03:44:44.507411Z",
          "shell.execute_reply": "2025-03-02T03:44:44.507426Z"
        },
        "trusted": true,
        "id": "jeZdpd_XEdcX"
      },
      "outputs": [],
      "execution_count": null
    },
    {
      "cell_type": "markdown",
      "source": [
        "**=> No Missing Values**"
      ],
      "metadata": {
        "id": "3UUgOVpoEdcX"
      }
    },
    {
      "cell_type": "code",
      "source": [
        "sns.countplot(x='Emotion', data=train_df)"
      ],
      "metadata": {
        "execution": {
          "iopub.status.busy": "2025-03-02T03:44:44.508654Z",
          "iopub.status.idle": "2025-03-02T03:44:44.508951Z",
          "shell.execute_reply.started": "2025-03-02T03:44:44.508791Z",
          "shell.execute_reply": "2025-03-02T03:44:44.508813Z"
        },
        "trusted": true,
        "id": "OsHwKbZYEdcY"
      },
      "outputs": [],
      "execution_count": null
    },
    {
      "cell_type": "markdown",
      "source": [
        "**=> Imbalanced labels! But We still want to classify 7 classes**"
      ],
      "metadata": {
        "id": "QqYovSa-EdcY"
      }
    },
    {
      "cell_type": "markdown",
      "source": [
        "### DataLoader"
      ],
      "metadata": {
        "id": "WkyaPAOPEdcY"
      }
    },
    {
      "cell_type": "code",
      "source": [
        "tokenizer = AutoTokenizer.from_pretrained(\"vinai/phobert-base\", use_fast=False)"
      ],
      "metadata": {
        "execution": {
          "iopub.status.busy": "2025-03-02T03:44:44.510417Z",
          "iopub.status.idle": "2025-03-02T03:44:44.510867Z",
          "shell.execute_reply.started": "2025-03-02T03:44:44.510668Z",
          "shell.execute_reply": "2025-03-02T03:44:44.510692Z"
        },
        "trusted": true,
        "id": "LS_IJyS1EdcY"
      },
      "outputs": [],
      "execution_count": null
    },
    {
      "cell_type": "markdown",
      "source": [
        "A word segmenter must be applied to produce word-segmented texts before feeding to PhoBERT"
      ],
      "metadata": {
        "id": "aEWkif8SEdcY"
      }
    },
    {
      "cell_type": "code",
      "source": [
        "class SentimentDataset(Dataset):\n",
        "    def __init__(self, df, tokenizer, max_len=120):\n",
        "        self.df = df\n",
        "        self.max_len = max_len\n",
        "        self.tokenizer = tokenizer\n",
        "\n",
        "    def __len__(self):\n",
        "        return len(self.df)\n",
        "\n",
        "    def __getitem__(self, index):\n",
        "        \"\"\"\n",
        "        To customize dataset, inherit from Dataset class and implement\n",
        "        __len__ & __getitem__\n",
        "        __getitem__ should return\n",
        "            data:\n",
        "                input_ids\n",
        "                attention_masks\n",
        "                text\n",
        "                targets\n",
        "        \"\"\"\n",
        "        row = self.df.iloc[index]\n",
        "        text, label = self.get_input_data(row)\n",
        "\n",
        "        # Encode_plus will:\n",
        "        # (1) split text into token\n",
        "        # (2) Add the '[CLS]' and '[SEP]' token to the start and end\n",
        "        # (3) Truncate/Pad sentence to max length\n",
        "        # (4) Map token to their IDS\n",
        "        # (5) Create attention mask\n",
        "        # (6) Return a dictionary of outputs\n",
        "        encoding = self.tokenizer.encode_plus(\n",
        "            text,\n",
        "            truncation=True,\n",
        "            add_special_tokens=True,\n",
        "            max_length=self.max_len,\n",
        "            padding='max_length',\n",
        "            return_attention_mask=True,\n",
        "            return_token_type_ids=False,\n",
        "            return_tensors='pt',\n",
        "        )\n",
        "\n",
        "        return {\n",
        "            'text': text,\n",
        "            'input_ids': encoding['input_ids'].flatten(),\n",
        "            'attention_masks': encoding['attention_mask'].flatten(),\n",
        "            'targets': torch.tensor(label, dtype=torch.long),\n",
        "        }\n",
        "\n",
        "\n",
        "    def labelencoder(self,text):\n",
        "        if text=='Enjoyment':\n",
        "            return 0\n",
        "        elif text=='Disgust':\n",
        "            return 1\n",
        "        elif text=='Sadness':\n",
        "            return 2\n",
        "        elif text=='Anger':\n",
        "            return 3\n",
        "        elif text=='Surprise':\n",
        "            return 4\n",
        "        elif text=='Fear':\n",
        "            return 5\n",
        "        else:\n",
        "            return 6\n",
        "\n",
        "    def get_input_data(self, row):\n",
        "        # Preprocessing: {remove icon, special character, lower}\n",
        "        text = row['Sentence']\n",
        "        text = ' '.join(simple_preprocess(text))\n",
        "        text = ViTokenizer.tokenize(text)\n",
        "        label = self.labelencoder(row['Emotion'])\n",
        "\n",
        "        return text, label"
      ],
      "metadata": {
        "execution": {
          "iopub.status.busy": "2025-03-02T03:44:44.511945Z",
          "iopub.status.idle": "2025-03-02T03:44:44.512282Z",
          "shell.execute_reply.started": "2025-03-02T03:44:44.512084Z",
          "shell.execute_reply": "2025-03-02T03:44:44.512124Z"
        },
        "trusted": true,
        "id": "mFVNXeE_EdcY"
      },
      "outputs": [],
      "execution_count": null
    },
    {
      "cell_type": "markdown",
      "source": [
        "**BERT works with fixed-length sequences. We’ll use a simple strategy to choose the max length.**"
      ],
      "metadata": {
        "id": "6ftHMn7qEdcZ"
      }
    },
    {
      "cell_type": "code",
      "source": [
        "# Distribution of length of Sentence\n",
        "all_data = train_df.Sentence.tolist() + test_df.Sentence.tolist()\n",
        "all_data = [' '.join(simple_preprocess(text)) for text in all_data]\n",
        "encoded_text = [tokenizer.encode(text, add_special_tokens=True) for text in all_data]\n",
        "token_lens = [len(text) for text in encoded_text]\n",
        "sns.displot(token_lens)\n",
        "plt.xlim([0,max(token_lens)])\n",
        "plt.xlabel('Token Count')"
      ],
      "metadata": {
        "execution": {
          "iopub.status.busy": "2025-03-02T03:44:44.513182Z",
          "iopub.status.idle": "2025-03-02T03:44:44.513462Z",
          "shell.execute_reply.started": "2025-03-02T03:44:44.513315Z",
          "shell.execute_reply": "2025-03-02T03:44:44.51333Z"
        },
        "trusted": true,
        "id": "HvfIMfQiEdcZ"
      },
      "outputs": [],
      "execution_count": null
    },
    {
      "cell_type": "markdown",
      "source": [
        "**=> Choose a maximum of length of 50 is safe.**"
      ],
      "metadata": {
        "id": "sV8_6shWEdcZ"
      }
    },
    {
      "cell_type": "markdown",
      "source": [
        "### Model"
      ],
      "metadata": {
        "id": "qx9SqdZYEdcZ"
      }
    },
    {
      "cell_type": "code",
      "source": [
        "class SentimentClassifier(nn.Module):\n",
        "    def __init__(self, n_classes):\n",
        "        super(SentimentClassifier, self).__init__()\n",
        "        self.bert = AutoModel.from_pretrained(\"vinai/phobert-base\")\n",
        "        self.drop = nn.Dropout(p=0.3)\n",
        "        self.fc = nn.Linear(self.bert.config.hidden_size, n_classes)\n",
        "        nn.init.normal_(self.fc.weight, std=0.02)\n",
        "        nn.init.normal_(self.fc.bias, 0)\n",
        "\n",
        "    def forward(self, input_ids, attention_mask):\n",
        "        last_hidden_state, output = self.bert(\n",
        "            input_ids=input_ids,\n",
        "            attention_mask=attention_mask,\n",
        "            return_dict=False # Dropout will errors if without this\n",
        "        )\n",
        "\n",
        "        x = self.drop(output)\n",
        "        x = self.fc(x)\n",
        "        return x"
      ],
      "metadata": {
        "execution": {
          "iopub.status.busy": "2025-03-02T03:44:44.514615Z",
          "iopub.status.idle": "2025-03-02T03:44:44.514902Z",
          "shell.execute_reply.started": "2025-03-02T03:44:44.514742Z",
          "shell.execute_reply": "2025-03-02T03:44:44.514757Z"
        },
        "trusted": true,
        "id": "KoakkGv4EdcZ"
      },
      "outputs": [],
      "execution_count": null
    },
    {
      "cell_type": "markdown",
      "source": [
        "### Train & Eval Function"
      ],
      "metadata": {
        "id": "XoBsUrHqEdcZ"
      }
    },
    {
      "cell_type": "code",
      "source": [
        "def train(model, criterion, optimizer, train_loader):\n",
        "    model.train()\n",
        "    losses = []\n",
        "    correct = 0\n",
        "\n",
        "    for data in train_loader:\n",
        "        input_ids = data['input_ids'].to(device)\n",
        "        attention_mask = data['attention_masks'].to(device)\n",
        "        targets = data['targets'].to(device)\n",
        "\n",
        "        optimizer.zero_grad()\n",
        "        outputs = model(\n",
        "            input_ids=input_ids,\n",
        "            attention_mask=attention_mask\n",
        "        )\n",
        "\n",
        "        loss = criterion(outputs, targets)\n",
        "        _, pred = torch.max(outputs, dim=1)\n",
        "\n",
        "        correct += torch.sum(pred == targets)\n",
        "        losses.append(loss.item())\n",
        "        loss.backward()\n",
        "        nn.utils.clip_grad_norm_(model.parameters(), max_norm=1.0)\n",
        "        optimizer.step()\n",
        "        lr_scheduler.step()\n",
        "\n",
        "    print(f'Train Accuracy: {correct.double()/len(train_loader.dataset)} Loss: {np.mean(losses)}')\n",
        "\n",
        "def eval(test_data = False):\n",
        "    model.eval()\n",
        "    losses = []\n",
        "    correct = 0\n",
        "\n",
        "    with torch.no_grad():\n",
        "        data_loader = test_loader if test_data else valid_loader\n",
        "        for data in data_loader:\n",
        "            input_ids = data['input_ids'].to(device)\n",
        "            attention_mask = data['attention_masks'].to(device)\n",
        "            targets = data['targets'].to(device)\n",
        "\n",
        "            outputs = model(\n",
        "                input_ids=input_ids,\n",
        "                attention_mask=attention_mask\n",
        "            )\n",
        "\n",
        "            _, pred = torch.max(outputs, dim=1)\n",
        "\n",
        "            loss = criterion(outputs, targets)\n",
        "            correct += torch.sum(pred == targets)\n",
        "            losses.append(loss.item())\n",
        "\n",
        "    if test_data:\n",
        "        print(f'Test Accuracy: {correct.double()/len(test_loader.dataset)} Loss: {np.mean(losses)}')\n",
        "        return correct.double()/len(test_loader.dataset)\n",
        "    else:\n",
        "        print(f'Valid Accuracy: {correct.double()/len(valid_loader.dataset)} Loss: {np.mean(losses)}')\n",
        "        return correct.double()/len(valid_loader.dataset)\n"
      ],
      "metadata": {
        "execution": {
          "iopub.status.busy": "2025-03-02T03:44:44.516028Z",
          "iopub.status.idle": "2025-03-02T03:44:44.516375Z",
          "shell.execute_reply.started": "2025-03-02T03:44:44.5162Z",
          "shell.execute_reply": "2025-03-02T03:44:44.516224Z"
        },
        "trusted": true,
        "id": "DBd9njkbEdcZ"
      },
      "outputs": [],
      "execution_count": null
    },
    {
      "cell_type": "markdown",
      "source": [
        "### Training with K-Fold"
      ],
      "metadata": {
        "id": "Kzjyknj_EdcZ"
      }
    },
    {
      "cell_type": "code",
      "source": [
        "def prepare_loaders(df, fold):\n",
        "    df_train = df[df.kfold != fold].reset_index(drop=True)\n",
        "    df_valid = df[df.kfold == fold].reset_index(drop=True)\n",
        "\n",
        "    train_dataset = SentimentDataset(df_train, tokenizer, max_len=120)\n",
        "    valid_dataset = SentimentDataset(df_valid, tokenizer, max_len=120)\n",
        "\n",
        "    train_loader = DataLoader(train_dataset, batch_size=16, shuffle=True, num_workers=2)\n",
        "    valid_loader = DataLoader(valid_dataset, batch_size=16, shuffle=True, num_workers=2)\n",
        "\n",
        "    return train_loader, valid_loader"
      ],
      "metadata": {
        "execution": {
          "iopub.status.busy": "2025-03-02T03:44:44.517359Z",
          "iopub.status.idle": "2025-03-02T03:44:44.517654Z",
          "shell.execute_reply.started": "2025-03-02T03:44:44.517493Z",
          "shell.execute_reply": "2025-03-02T03:44:44.517514Z"
        },
        "trusted": true,
        "id": "L6X9Z-OYEdcZ"
      },
      "outputs": [],
      "execution_count": null
    },
    {
      "cell_type": "code",
      "source": [
        "for fold in range(skf.n_splits):\n",
        "    print(f'-----------Fold: {fold+1} ------------------')\n",
        "    train_loader, valid_loader = prepare_loaders(train_df, fold=fold)\n",
        "    model = SentimentClassifier(n_classes=7).to(device)\n",
        "    criterion = nn.CrossEntropyLoss()\n",
        "    # Recommendation by BERT: lr: 5e-5, 2e-5, 3e-5\n",
        "    # Batchsize: 16, 32\n",
        "    optimizer = AdamW(model.parameters(), lr=2e-5)\n",
        "\n",
        "    lr_scheduler = get_linear_schedule_with_warmup(\n",
        "                optimizer,\n",
        "                num_warmup_steps=0,\n",
        "                num_training_steps=len(train_loader)*EPOCHS\n",
        "            )\n",
        "    best_acc = 0\n",
        "    for epoch in range(EPOCHS):\n",
        "        print(f'Epoch {epoch+1}/{EPOCHS}')\n",
        "        print('-'*30)\n",
        "\n",
        "        train(model, criterion, optimizer, train_loader)\n",
        "        val_acc = eval()\n",
        "\n",
        "        if val_acc > best_acc:\n",
        "            torch.save(model.state_dict(), f'phobert_fold{fold+1}.pth')\n",
        "            best_acc = val_acc"
      ],
      "metadata": {
        "execution": {
          "iopub.status.busy": "2025-03-02T03:44:44.518583Z",
          "iopub.status.idle": "2025-03-02T03:44:44.518883Z",
          "shell.execute_reply.started": "2025-03-02T03:44:44.518719Z",
          "shell.execute_reply": "2025-03-02T03:44:44.518741Z"
        },
        "trusted": true,
        "id": "MwYiAKE0Edca"
      },
      "outputs": [],
      "execution_count": null
    },
    {
      "cell_type": "code",
      "source": [
        "def test_kfold(data_loader):\n",
        "    models = []\n",
        "    for fold in range(skf.n_splits):\n",
        "        model = SentimentClassifier(n_classes=7)\n",
        "        model.to(device)\n",
        "        model.load_state_dict(torch.load(f'phobert_fold{fold+1}.pth'))\n",
        "        model.eval()\n",
        "        models.append(model)\n",
        "\n",
        "    texts = []\n",
        "    predicts = []\n",
        "    predict_probs = []\n",
        "    real_values = []\n",
        "\n",
        "    for data in data_loader:\n",
        "        text = data['text']\n",
        "        input_ids = data['input_ids'].to(device)\n",
        "        attention_mask = data['attention_masks'].to(device)\n",
        "        targets = data['targets'].to(device)\n",
        "\n",
        "        total_outs = []\n",
        "        for model in models:\n",
        "            with torch.no_grad():\n",
        "                outputs = model(\n",
        "                    input_ids=input_ids,\n",
        "                    attention_mask=attention_mask\n",
        "                )\n",
        "                total_outs.append(outputs)\n",
        "\n",
        "        total_outs = torch.stack(total_outs)\n",
        "        _, pred = torch.max(total_outs.mean(0), dim=1)\n",
        "        texts.extend(text)\n",
        "        predicts.extend(pred)\n",
        "        predict_probs.extend(total_outs.mean(0))\n",
        "        real_values.extend(targets)\n",
        "\n",
        "    predicts = torch.stack(predicts).cpu()\n",
        "    predict_probs = torch.stack(predict_probs).cpu()\n",
        "    real_values = torch.stack(real_values).cpu()\n",
        "    print(classification_report(real_values, predicts))\n",
        "    return real_values, predicts"
      ],
      "metadata": {
        "execution": {
          "iopub.status.busy": "2025-03-02T03:44:44.520397Z",
          "iopub.status.idle": "2025-03-02T03:44:44.520825Z",
          "shell.execute_reply.started": "2025-03-02T03:44:44.520592Z",
          "shell.execute_reply": "2025-03-02T03:44:44.520616Z"
        },
        "trusted": true,
        "id": "FAU59HrsEdca"
      },
      "outputs": [],
      "execution_count": null
    },
    {
      "cell_type": "code",
      "source": [
        "test_dataset = SentimentDataset(test_df, tokenizer, max_len=50)\n",
        "test_loader = DataLoader(test_dataset, batch_size=16, shuffle=True, num_workers=2)\n",
        "real_values, predicts = test_kfold(test_loader)"
      ],
      "metadata": {
        "execution": {
          "iopub.status.busy": "2025-03-02T03:44:44.521903Z",
          "iopub.status.idle": "2025-03-02T03:44:44.522384Z",
          "shell.execute_reply.started": "2025-03-02T03:44:44.522142Z",
          "shell.execute_reply": "2025-03-02T03:44:44.522166Z"
        },
        "trusted": true,
        "id": "pkmaf5CJEdca"
      },
      "outputs": [],
      "execution_count": null
    },
    {
      "cell_type": "markdown",
      "source": [
        "### Heatmap between Predict and Ground Truth"
      ],
      "metadata": {
        "id": "71t3MfHTEdca"
      }
    },
    {
      "cell_type": "code",
      "source": [
        "class_names = ['Enjoyment', 'Disgust', 'Sadness', 'Anger', 'Surprise', 'Fear', 'Other']\n",
        "sns.heatmap(confusion_matrix(real_values, predicts), annot=False, xticklabels = class_names, yticklabels = class_names)"
      ],
      "metadata": {
        "execution": {
          "iopub.status.busy": "2025-03-02T03:44:44.523958Z",
          "iopub.status.idle": "2025-03-02T03:44:44.524423Z",
          "shell.execute_reply.started": "2025-03-02T03:44:44.524185Z",
          "shell.execute_reply": "2025-03-02T03:44:44.524209Z"
        },
        "trusted": true,
        "id": "RsQ7U61dEdcb"
      },
      "outputs": [],
      "execution_count": null
    },
    {
      "cell_type": "markdown",
      "source": [
        "=> Label Fear is the most unrelated to others -> Highest F1-Score"
      ],
      "metadata": {
        "id": "Ac8i2JhcEdcb"
      }
    },
    {
      "cell_type": "markdown",
      "source": [
        "### Visualize Wrong Predicted Label"
      ],
      "metadata": {
        "id": "4xAxLhexEdcb"
      }
    },
    {
      "cell_type": "code",
      "source": [
        "def check_wrong(real_values, predicts):\n",
        "    wrong_arr = []\n",
        "    wrong_label = []\n",
        "    for i in range(len(predicts)):\n",
        "        if predicts[i] != real_values[i]:\n",
        "            wrong_arr.append(i)\n",
        "            wrong_label.append(predicts[i])\n",
        "    return wrong_arr, wrong_label\n",
        "\n",
        "for i in range(15):\n",
        "    print('-'*50)\n",
        "    wrong_arr, wrong_label = check_wrong(real_values, predicts)\n",
        "    print(test_df.iloc[wrong_arr[i]].Sentence)\n",
        "    print(f'Predicted: ({class_names[wrong_label[i]]}) --vs-- Real label: ({class_names[real_values[wrong_arr[i]]]})')"
      ],
      "metadata": {
        "execution": {
          "iopub.status.busy": "2025-03-02T03:44:44.525551Z",
          "iopub.status.idle": "2025-03-02T03:44:44.52598Z",
          "shell.execute_reply.started": "2025-03-02T03:44:44.525745Z",
          "shell.execute_reply": "2025-03-02T03:44:44.525768Z"
        },
        "trusted": true,
        "id": "PCXPq1QZEdcb"
      },
      "outputs": [],
      "execution_count": null
    },
    {
      "cell_type": "markdown",
      "source": [
        "### Inference"
      ],
      "metadata": {
        "id": "lzrzbJ0LEdcb"
      }
    },
    {
      "cell_type": "code",
      "source": [
        "def infer(text, tokenizer, max_len=120):\n",
        "    print(f'Text: {text}')\n",
        "    text = ' '.join(simple_preprocess(text))\n",
        "    text = ViTokenizer.tokenize(text)\n",
        "\n",
        "    encoded_review = tokenizer.encode_plus(\n",
        "        text,\n",
        "        max_length=max_len,\n",
        "        truncation=True,\n",
        "        add_special_tokens=True,\n",
        "        padding='max_length',\n",
        "        return_attention_mask=True,\n",
        "        return_token_type_ids=False,\n",
        "        return_tensors='pt',\n",
        "    )\n",
        "\n",
        "    input_ids = encoded_review['input_ids'].to(device)\n",
        "    attention_mask = encoded_review['attention_mask'].to(device)\n",
        "\n",
        "    output = model(input_ids, attention_mask)\n",
        "    _, y_pred = torch.max(output, dim=1)\n",
        "\n",
        "    print(f'Sentiment: {class_names[y_pred]}')"
      ],
      "metadata": {
        "execution": {
          "iopub.status.busy": "2025-03-02T03:44:44.527444Z",
          "iopub.status.idle": "2025-03-02T03:44:44.527877Z",
          "shell.execute_reply.started": "2025-03-02T03:44:44.527642Z",
          "shell.execute_reply": "2025-03-02T03:44:44.527666Z"
        },
        "trusted": true,
        "id": "ml1Unt68Edcb"
      },
      "outputs": [],
      "execution_count": null
    },
    {
      "cell_type": "code",
      "source": [
        "infer('Cảm ơn bạn đã chạy thử model của mình. Chúc một ngày tốt lành nha!', tokenizer)"
      ],
      "metadata": {
        "trusted": true,
        "id": "jxIpOAbPEdcc"
      },
      "outputs": [],
      "execution_count": null
    },
    {
      "cell_type": "markdown",
      "source": [
        "### <center> Thanks for reading 🥰🥰🥰 </center>"
      ],
      "metadata": {
        "id": "4MOw3I9SEdcc"
      }
    },
    {
      "cell_type": "markdown",
      "source": [
        "### References:\n",
        "\n",
        "* https://github.com/VinAIResearch/PhoBERT\n",
        "\n",
        "* https://curiousily.com/posts/sentiment-analysis-with-bert-and-hugging-face-using-pytorch-and-python/\n",
        "\n",
        "* http://nlp.uit.edu.vn/datasets/\n",
        "\n",
        "* https://www.kaggle.com/code/shoheiazuma/tweet-sentiment-roberta-pytorch/notebook#Model\n",
        "\n",
        "* https://skimai.com/fine-tuning-bert-for-sentiment-analysis/"
      ],
      "metadata": {
        "id": "fPMX8wyTEdcc"
      }
    }
  ]
}